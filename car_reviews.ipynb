{
 "cells": [
  {
   "cell_type": "markdown",
   "metadata": {},
   "source": [
    "# Car Reviews\n",
    "\n",
    "## Part 1\n",
    "\n",
    "### So the first approach includes the following:\n",
    "<ol>\n",
    "<li>Opening with a csv reader</li>\n",
    "<li> Lowering text</li>\n",
    "<li>Applying stopwords filtering</li>\n",
    "<li>Stemming</li>\n",
    "<li>Feature Extraction</li>\n",
    "<li>Using a Multinomial classifier</li>\n",
    "</ol>\n",
    "\n",
    "### car_reviews.csv should be in the same folder to run"
   ]
  },
  {
   "cell_type": "code",
   "execution_count": 1,
   "metadata": {},
   "outputs": [],
   "source": [
    "import numpy as np\n",
    "from sklearn.metrics import accuracy_score\n",
    "from sklearn.naive_bayes import MultinomialNB\n",
    "from sklearn.metrics import confusion_matrix\n",
    "from sklearn.model_selection import cross_val_score\n",
    "from sklearn.model_selection import train_test_split\n",
    "from sklearn.feature_extraction.text import CountVectorizer\n",
    "from nltk.tokenize import sent_tokenize, word_tokenize\n",
    "from sklearn.metrics import plot_confusion_matrix\n",
    "from nltk.corpus import stopwords\n",
    "from nltk.stem import PorterStemmer\n",
    "from nltk.stem import WordNetLemmatizer\n",
    "import pandas as pd\n",
    "import random\n",
    "import time\n",
    "import re\n",
    "\n",
    "def rejoin_words(row):\n",
    "    joined_words = (\" \".join(row))\n",
    "    return joined_words\n",
    "\n",
    "def remove_special_characters(text):\n",
    "    pat = r'[^a-zA-z.,!?/:;\\\"\\'\\s]' \n",
    "    return re.sub(pat, '', text)\n",
    "\n",
    "def word_preprocessing(word):\n",
    "    stop_words = set(stopwords.words('english'))\n",
    "    ps = PorterStemmer()\n",
    "    word = remove_special_characters(word)\n",
    "    word_tokens = word_tokenize(word)\n",
    "    filtered_sentence = [w for w in word_tokens if not w in stop_words]\n",
    "    stemmed_sentence = [ps.stem(w) for w in filtered_sentence]\n",
    "    rejoined_string = rejoin_words(stemmed_sentence)\n",
    "    return rejoined_string\n",
    "\n",
    "\n",
    "def preprocessing(reviews_list):\n",
    "    reviews_list['Review'] = reviews_list['Review'].str.lower()\n",
    "    for i in range(len(reviews_list)):\n",
    "        row = reviews_list.iloc[i]\n",
    "        review = row['Review']\n",
    "        reviews_list.iloc[i]['Review'] = word_preprocessing(review)\n",
    "    return reviews_list\n",
    "\n",
    "\n",
    "def feature_extraction(reviews_list):\n",
    "    CountVec = CountVectorizer()\n",
    "    Count_data = CountVec.fit_transform(reviews_list['Review'])\n",
    "    cv_dataframe = pd.DataFrame(Count_data.toarray(), columns=CountVec.get_feature_names())\n",
    "    cv_dataframe['Sentiment'] = reviews_list['Sentiment']\n",
    "    # cv_dataframe.to_csv(path_or_buf=\"dataframe.csv\", index=False)\n",
    "    train, test = train_test_split(cv_dataframe, test_size=0.2)\n",
    "    return train, test\n",
    "\n",
    "\n",
    "def predict(model, test, train):\n",
    "    Y = test[train.columns[-1]]\n",
    "    X = test.iloc[:, :-1]\n",
    "    all_predictions = model.predict(X)\n",
    "    plot_confusion_matrix(model, X, Y)\n",
    "    print(accuracy_score(Y, all_predictions))\n",
    "    scores = cross_val_score(model, X, Y, cv=10)\n",
    "    print(scores)\n",
    "    print(\"%f accuracy with a standard deviation of %f\" % (scores.mean(), scores.std()))\n",
    "\n",
    "\n",
    "def model_train(train):\n",
    "    model = MultinomialNB().fit(train.iloc[:, :-1], train[train.columns[-1]])\n",
    "    return model\n",
    "\n",
    "\n",
    "def csv_reader(filename):\n",
    "    reviews_list = pd.read_csv(filename)\n",
    "    return reviews_list\n",
    "\n",
    "def execute_car_reviews():\n",
    "    start_time = time.time()\n",
    "    reviews_list = csv_reader(\"car-reviews.csv\")\n",
    "    filtered = preprocessing(reviews_list)\n",
    "    train, test = feature_extraction(reviews_list)\n",
    "    model = model_train(train)\n",
    "    predict(model, test, train)\n",
    "    print(\"--- %s seconds ---\" % (time.time() - start_time))"
   ]
  },
  {
   "cell_type": "markdown",
   "metadata": {},
   "source": [
    "### Let's look at the afformentioned parts in more detail."
   ]
  },
  {
   "cell_type": "markdown",
   "metadata": {},
   "source": [
    "* Does the submission demonstrate that words with the same stem have been\n",
    "appropriately recognised and treated as variations of the stem? This should be\n",
    "demonstrated for at least 3 different stems."
   ]
  },
  {
   "cell_type": "code",
   "execution_count": 2,
   "metadata": {},
   "outputs": [
    {
     "name": "stdout",
     "output_type": "stream",
     "text": [
      "program program program languag\n",
      "peopl like like peopl similar like\n",
      "  Sentiment                                                                                                                                                                                                                                                                                                                                                                                                                                                                                                                                                                                                                                                                                                                                                                                                                                                   Review\n",
      "0       Neg   In 1992 we bought a new Taurus and we really loved it  So in 1999 we decided to try a new Taurus  I did not care for the style of the newer version  but bought it anyway I do not like the new car half as much as i liked our other one  Thee dash is much to deep and takes up a lot of room  I do not find the seats as comfortable and the way the sides stick out further than the strip that should protect your card from denting It drives nice and has good pick up  But you can not see the hood at all from the driver seat and judging and parking is difficult  It has a very small gas tank I would not buy a Taurus if I had it to do over  I would rather have my 1992 back  I dont think the style is as nice as the the 1992  and it was a mistake to change the style  In less than a month we had a dead battery and a flat tire \n",
      "  Sentiment                                                                                                                                                                                                                                                                                                                                                                                                       Review\n",
      "0       Neg  bought new tauru realli love decid tri new tauru care style newer version bought anyway like new car half much like one thee dash much deep take lot room find seat comfort way side stick strip protect card dent drive nice good pick see hood driver seat judg park difficult small ga tank would buy tauru would rather back dont think style nice mistak chang style less month dead batteri flat tire\n"
     ]
    }
   ],
   "source": [
    "sentence = \"Programers program with programing languages\"\n",
    "print(word_preprocessing(sentence))\n",
    "\n",
    "sentence = \"People are more likely being liked by people who have similar likings\"\n",
    "print(word_preprocessing(sentence))\n",
    "\n",
    "reviews_list = csv_reader(\"car-reviews.csv\")\n",
    "print(reviews_list.head(1).to_string())\n",
    "filtered = preprocessing(reviews_list)\n",
    "print(filtered.head(1).to_string())\n"
   ]
  },
  {
   "cell_type": "markdown",
   "metadata": {},
   "source": [
    "We can clearly see that for different variations of 'program' or 'like', the stemming algorithm produces the same stem. \n",
    "<br>program program program languag<br>\n",
    "peopl like like peopl similar like\n",
    "\n",
    "Same functionality works in the full csv"
   ]
  },
  {
   "cell_type": "markdown",
   "metadata": {},
   "source": [
    "* Does the code produce some output to demonstrate that a vector has been created\n",
    "for each review, where each element in the vector represents EITHER a binary\n",
    "variable indicating the presence of a word/stem in a review OR the number of times\n",
    "that a word (or word stem) appears? Note that the output does not need to show\n",
    "the vector for all reviews, this only needs to contain a small sample of reviews."
   ]
  },
  {
   "cell_type": "code",
   "execution_count": 3,
   "metadata": {},
   "outputs": [
    {
     "data": {
      "text/html": [
       "<div>\n",
       "<style scoped>\n",
       "    .dataframe tbody tr th:only-of-type {\n",
       "        vertical-align: middle;\n",
       "    }\n",
       "\n",
       "    .dataframe tbody tr th {\n",
       "        vertical-align: top;\n",
       "    }\n",
       "\n",
       "    .dataframe thead th {\n",
       "        text-align: right;\n",
       "    }\n",
       "</style>\n",
       "<table border=\"1\" class=\"dataframe\">\n",
       "  <thead>\n",
       "    <tr style=\"text-align: right;\">\n",
       "      <th></th>\n",
       "      <th>ab</th>\n",
       "      <th>abl</th>\n",
       "      <th>acceler</th>\n",
       "      <th>accid</th>\n",
       "      <th>activ</th>\n",
       "      <th>actuat</th>\n",
       "      <th>ad</th>\n",
       "      <th>addit</th>\n",
       "      <th>air</th>\n",
       "      <th>allow</th>\n",
       "      <th>...</th>\n",
       "      <th>within</th>\n",
       "      <th>work</th>\n",
       "      <th>worri</th>\n",
       "      <th>would</th>\n",
       "      <th>wrong</th>\n",
       "      <th>xlt</th>\n",
       "      <th>yard</th>\n",
       "      <th>year</th>\n",
       "      <th>yet</th>\n",
       "      <th>Sentiment</th>\n",
       "    </tr>\n",
       "  </thead>\n",
       "  <tbody>\n",
       "    <tr>\n",
       "      <th>1</th>\n",
       "      <td>0</td>\n",
       "      <td>0</td>\n",
       "      <td>0</td>\n",
       "      <td>0</td>\n",
       "      <td>0</td>\n",
       "      <td>0</td>\n",
       "      <td>0</td>\n",
       "      <td>0</td>\n",
       "      <td>0</td>\n",
       "      <td>1</td>\n",
       "      <td>...</td>\n",
       "      <td>0</td>\n",
       "      <td>1</td>\n",
       "      <td>0</td>\n",
       "      <td>2</td>\n",
       "      <td>0</td>\n",
       "      <td>0</td>\n",
       "      <td>0</td>\n",
       "      <td>0</td>\n",
       "      <td>0</td>\n",
       "      <td>Neg</td>\n",
       "    </tr>\n",
       "    <tr>\n",
       "      <th>2</th>\n",
       "      <td>0</td>\n",
       "      <td>0</td>\n",
       "      <td>0</td>\n",
       "      <td>0</td>\n",
       "      <td>0</td>\n",
       "      <td>0</td>\n",
       "      <td>0</td>\n",
       "      <td>1</td>\n",
       "      <td>3</td>\n",
       "      <td>0</td>\n",
       "      <td>...</td>\n",
       "      <td>3</td>\n",
       "      <td>1</td>\n",
       "      <td>0</td>\n",
       "      <td>0</td>\n",
       "      <td>1</td>\n",
       "      <td>0</td>\n",
       "      <td>1</td>\n",
       "      <td>1</td>\n",
       "      <td>0</td>\n",
       "      <td>Neg</td>\n",
       "    </tr>\n",
       "    <tr>\n",
       "      <th>0</th>\n",
       "      <td>0</td>\n",
       "      <td>0</td>\n",
       "      <td>0</td>\n",
       "      <td>0</td>\n",
       "      <td>0</td>\n",
       "      <td>0</td>\n",
       "      <td>0</td>\n",
       "      <td>0</td>\n",
       "      <td>0</td>\n",
       "      <td>0</td>\n",
       "      <td>...</td>\n",
       "      <td>0</td>\n",
       "      <td>0</td>\n",
       "      <td>0</td>\n",
       "      <td>2</td>\n",
       "      <td>0</td>\n",
       "      <td>0</td>\n",
       "      <td>0</td>\n",
       "      <td>0</td>\n",
       "      <td>0</td>\n",
       "      <td>Neg</td>\n",
       "    </tr>\n",
       "    <tr>\n",
       "      <th>4</th>\n",
       "      <td>0</td>\n",
       "      <td>1</td>\n",
       "      <td>1</td>\n",
       "      <td>0</td>\n",
       "      <td>0</td>\n",
       "      <td>0</td>\n",
       "      <td>1</td>\n",
       "      <td>1</td>\n",
       "      <td>0</td>\n",
       "      <td>0</td>\n",
       "      <td>...</td>\n",
       "      <td>0</td>\n",
       "      <td>0</td>\n",
       "      <td>1</td>\n",
       "      <td>1</td>\n",
       "      <td>0</td>\n",
       "      <td>0</td>\n",
       "      <td>0</td>\n",
       "      <td>0</td>\n",
       "      <td>1</td>\n",
       "      <td>Neg</td>\n",
       "    </tr>\n",
       "  </tbody>\n",
       "</table>\n",
       "<p>4 rows × 449 columns</p>\n",
       "</div>"
      ],
      "text/plain": [
       "   ab  abl  acceler  accid  activ  actuat  ad  addit  air  allow  ...  within  \\\n",
       "1   0    0        0      0      0       0   0      0    0      1  ...       0   \n",
       "2   0    0        0      0      0       0   0      1    3      0  ...       3   \n",
       "0   0    0        0      0      0       0   0      0    0      0  ...       0   \n",
       "4   0    1        1      0      0       0   1      1    0      0  ...       0   \n",
       "\n",
       "   work  worri  would  wrong  xlt  yard  year  yet  Sentiment  \n",
       "1     1      0      2      0    0     0     0    0        Neg  \n",
       "2     1      0      0      1    0     1     1    0        Neg  \n",
       "0     0      0      2      0    0     0     0    0        Neg  \n",
       "4     0      1      1      0    0     0     0    1        Neg  \n",
       "\n",
       "[4 rows x 449 columns]"
      ]
     },
     "execution_count": 3,
     "metadata": {},
     "output_type": "execute_result"
    }
   ],
   "source": [
    "reviews_list = csv_reader(\"car-reviews.csv\")\n",
    "head = reviews_list.head(5).copy()\n",
    "filtered = preprocessing(head)\n",
    "train, test = feature_extraction(head)\n",
    "train"
   ]
  },
  {
   "cell_type": "markdown",
   "metadata": {},
   "source": [
    "We used a CountVectorizer initially, which what it does is to convert a collection of a text document to a matrix of token counts. The output below demonstrates that a vector has been created for each review (4 for the train set and 1 for the test) and represents the number of times the stem appears."
   ]
  },
  {
   "cell_type": "markdown",
   "metadata": {},
   "source": [
    "* Does the code clearly show that an appropriate Naïve Bayes model has been used\n",
    "for classification, either through the use of an existing library or coded from scratch."
   ]
  },
  {
   "cell_type": "code",
   "execution_count": 4,
   "metadata": {},
   "outputs": [],
   "source": [
    "def model_train(train):\n",
    "    model = MultinomialNB().fit(train.iloc[:, :-1], train[train.columns[-1]])\n",
    "    return model\n",
    "\n",
    "model = model_train(train)"
   ]
  },
  {
   "cell_type": "markdown",
   "metadata": {},
   "source": [
    "We have used a Multinomial Classifier using the scikit-learn API. The multinomial Naïve Bayes classifier is suitable for classification with word counts for sentiment analysis such as this one."
   ]
  },
  {
   "cell_type": "markdown",
   "metadata": {},
   "source": [
    "* Does the code clearly show that 80% of the data has been used to train the\n",
    "classification model, and that the remaining 20% of the data set has been used as\n",
    "test data? AND does it show that only the training data has been used up to the\n",
    "point where the model has been trained (no test data)? AND is the code able to\n",
    "cope with words that appear in the test data but not in the training dataset?"
   ]
  },
  {
   "cell_type": "code",
   "execution_count": 5,
   "metadata": {},
   "outputs": [
    {
     "name": "stdout",
     "output_type": "stream",
     "text": [
      "(1382, 2)\n",
      "(1105, 9895)\n",
      "(277, 9895)\n"
     ]
    }
   ],
   "source": [
    "reviews_list = csv_reader(\"car-reviews.csv\")\n",
    "print(reviews_list.shape)\n",
    "filtered = preprocessing(reviews_list)\n",
    "train, test = feature_extraction(reviews_list)\n",
    "print(train.shape)\n",
    "print(test.shape)"
   ]
  },
  {
   "cell_type": "markdown",
   "metadata": {},
   "source": [
    "1382*0.8 $\\approx$ 1105\n",
    "\n",
    "\n",
    "1382*0.2 $\\approx$ 277\n",
    "\n",
    "So we would expect arrays of 1105 rows for the train model \n",
    "and 277 for the test model"
   ]
  },
  {
   "cell_type": "markdown",
   "metadata": {},
   "source": [
    "* Does the code output a confusion matrix demonstrating the performance of the\n",
    "Naïve Bayes classifier? The confusion matrix must clearly indicate the proportion of\n",
    "True Negatives, False Positives, False Negatives and True Positives."
   ]
  },
  {
   "cell_type": "code",
   "execution_count": 6,
   "metadata": {},
   "outputs": [
    {
     "name": "stdout",
     "output_type": "stream",
     "text": [
      "0.7545126353790613\n",
      "[0.71428571 0.67857143 0.78571429 0.67857143 0.71428571 0.75\n",
      " 0.78571429 0.74074074 0.85185185 0.62962963]\n",
      "0.732937 accuracy with a standard deviation of 0.061109\n",
      "--- 12.193392992019653 seconds ---\n"
     ]
    },
    {
     "data": {
      "image/png": "[encoded data removed]",
      "text/plain": [
       "<Figure size 432x288 with 2 Axes>"
      ]
     },
     "metadata": {
      "needs_background": "light"
     },
     "output_type": "display_data"
    }
   ],
   "source": [
    "execute_car_reviews()"
   ]
  },
  {
   "cell_type": "markdown",
   "metadata": {},
   "source": [
    "So we have 105 true negatives \n",
    "\n",
    "29 false negatives\n",
    "\n",
    "32 false positives\n",
    "\n",
    "111 true positives"
   ]
  },
  {
   "cell_type": "markdown",
   "metadata": {},
   "source": [
    "## Part 2\n",
    "\n",
    "* Does the Jupyter notebook include a markdown/comment section that\n",
    "clearly explains how the approach taken in part two is expected to\n",
    "improve on the solution to part one. Are the reasons for the expected\n",
    "improvements clearly justified and explained with one or more references\n",
    "(e.g. to a published source scientific paper, article, book)?\n",
    "\n"
   ]
  },
  {
   "cell_type": "markdown",
   "metadata": {},
   "source": [
    "So my approach to improve the existing implementation was mainly four-fold. \n",
    "* Consistenly find a way to judge the score.\n",
    "\n",
    "* Change CountVectorizer to tf-idf \n",
    "\n",
    "* Change Stemming to Lemmatization \n",
    "\n",
    "* Change The naive bayes approach to complement naive bayes. \n",
    "\n",
    "Reasons for taking this approach:\n",
    "\n",
    "While doing a 80/20 cut and getting an accuracy score is a way to identify whether a model is improving or not, to avoid overfitting or judge if we are indeed getting better, we need to have a way to evaluate our performance more consistently. We cannot be sure if a change is making our model better or this random 80/20 worked well on this change but not in other 80/20 cuts, especially if the data we have is limited. That's why we use K-folds which generally results in a less biased model compared to other methods. In K folds we split the entire data randomly into K folds. Then split the model using K-1 folds and validate the model using the remaining Kth fold. Repeat the process until every K-fold serve as the test set. That will be the performance metric for the model.\n",
    "\n",
    "https://towardsdatascience.com/why-and-how-to-cross-validate-a-model-d6424b45261f (acessed on 11 April 2021)\n",
    "\n",
    "<ins> The CountVectorizer will just count the number of words occured in each document.\n",
    "The main issue with this Term Frequency is that it will give more weight to longer documents.<ins>\n",
    "    \n",
    "IDF(Inverse Document Frequnecy) measures the amount of information a given word provides across the document.IDF is the logarithmically scaled inverse ratio of the number of documents that contain the word and the total number of documents.\n",
    "\n",
    "<ins>TF-IDF(Term Frequency-Inverse Document Frequency) normalizes the document term matrix.<ins> \n",
    "    \n",
    "It is the product of TF and IDF. A word with high tf-idf in a document is most of the times occurred in given documents and must be absent in the other documents. So the words must be a signature word.\n",
    "$idf(W) = \\log\\frac{documents}{documents containing word W}$\n",
    "\n",
    "\n",
    "https://www.datacamp.com/community/tutorials/text-analytics-beginners-nltk(accessed on 11 April 2021). \n",
    "\n",
    "\n",
    "The third approach would be to change stemming to lemmatization to check whether we would get any performance improvement. Whether lemmatization should be included or not is not just a plain answer. TF-IDF and Latent Dirichlet allocation would probably aid in getting better results. Furthermore depending on the type of application, some would benefit (topic modeling) and other wouldn't. The conservative way is to not lemmatize. But the general rule of thumb should be to not lemmatize unless there is a significant performance improvement.\n",
    "According to source https://opendatagroup.github.io/data%20science/2019/03/21/preprocessing-text.html (accessed on 6 April 2021).\n",
    "    \n",
    "Fourth approach would be to try altering to a Complement Naive Bayes Classifier. A Complement Naive Bayes classifier works well for imbalanced datasets such as this one where one review might be much bigger than some other review resulting in different weights between reviews. Complement Naive Bayes differs from Multinomial Naive Bayes in the sense that instead of calculating the probability of an item belonging to a certain class, we calculate the probability of the item belonging to all classes.\n",
    "https://www.geeksforgeeks.org/complement-naive-bayes-cnb-algorithm/ (accessed on 13 April 2021)\n"
   ]
  },
  {
   "cell_type": "markdown",
   "metadata": {},
   "source": [
    "* Does the submission clearly explain the steps that have been taken to\n",
    "implement the improved approach? These should be written in a way that\n",
    "one of your peers who may not have researched the same approach could understand. This may consist of code comments, Jupyter markdown, or a\n",
    "mix of both.\n",
    "\n",
    "* Does the code implement the described approach appropriately? (i.e.\n",
    "does the code actually do what is described?)"
   ]
  },
  {
   "cell_type": "markdown",
   "metadata": {},
   "source": [
    "The steps taken to implement the improved approach are explained below with code segments that implement the described approach appropriately."
   ]
  },
  {
   "cell_type": "markdown",
   "metadata": {},
   "source": [
    "1. For the first approach we already went back and filled the k fold in Part1 Predict() function to have a consistent way \n",
    "of evaluating the model throughout the whole evaluation.\n",
    "\n",
    "Lines filled are:\n",
    "\n",
    "from sklearn.model_selection import cross_val_score\n",
    "scores = cross_val_score(model, X, Y, cv=10)"
   ]
  },
  {
   "cell_type": "markdown",
   "metadata": {},
   "source": [
    "2. Second approach adds TfidfVectorizer. We tweaked the max_features property which only considers the first 4000 features with the best ranking to get better performance."
   ]
  },
  {
   "cell_type": "code",
   "execution_count": 19,
   "metadata": {},
   "outputs": [
    {
     "name": "stdout",
     "output_type": "stream",
     "text": [
      "0.779783393501805\n",
      "[0.71428571 0.67857143 0.75       0.82142857 0.89285714 0.71428571\n",
      " 0.75       0.77777778 0.74074074 0.81481481]\n",
      "0.765476 accuracy with a standard deviation of 0.059855\n",
      "--- 13.207979679107666 seconds ---\n"
     ]
    },
    {
     "data": {
      "image/png": "[encoded data removed]",
      "text/plain": [
       "<Figure size 432x288 with 2 Axes>"
      ]
     },
     "metadata": {
      "needs_background": "light"
     },
     "output_type": "display_data"
    }
   ],
   "source": [
    "from sklearn.feature_extraction.text import TfidfVectorizer\n",
    "\n",
    "def feature_extraction(reviews_list):\n",
    "    # Changing to a tfidf vectorizer instead of a CountVectorizer\n",
    "    tfidf = TfidfVectorizer(max_features=4000)\n",
    "    Count_data = tfidf.fit_transform(reviews_list['Review'])\n",
    "    cv_dataframe = pd.DataFrame(Count_data.toarray(), columns=tfidf.get_feature_names())\n",
    "    cv_dataframe['Sentiment'] = reviews_list['Sentiment']\n",
    "    train, test = train_test_split(cv_dataframe, test_size=0.2)\n",
    "    train.to_csv(path_or_buf=\"train2.csv\", index=False)\n",
    "    return train, test\n",
    "\n",
    "\n",
    "execute_car_reviews()"
   ]
  },
  {
   "cell_type": "markdown",
   "metadata": {},
   "source": [
    "3. Third approach to improve our model is lemmatization. Lemmatization is the process of converting a word to its base form. The difference between stemming and lemmatization is, lemmatization considers the context and converts the word to its meaningful base form, whereas stemming just removes the last few characters and gets the stem which often times is not meaningful. For example stemming \"history\" results in getting its stem \"histori\" which is not a valid english word. Lemmatization for \"history\" or \"historical\" would return back its lemma \"history\" which is a valid word of the english dictionary\n",
    "\n",
    "E.g \n",
    "\n",
    "Stem                                \n",
    "\n",
    "history --------> histori\n",
    "\n",
    "historical -----> histori  \n",
    "\n",
    "Lemmatization\n",
    "\n",
    "history --------> history\n",
    "\n",
    "historical -----> history\n",
    "\n",
    "Additionally lemmatization would correctly identify the base of \"caring\" to \"care\". \n",
    "\n",
    "Stemmming would wrongly cutoff the ing part and convert it to car"
   ]
  },
  {
   "cell_type": "code",
   "execution_count": 7,
   "metadata": {},
   "outputs": [
    {
     "name": "stdout",
     "output_type": "stream",
     "text": [
      "0.8014440433212996\n",
      "[0.75       0.78571429 0.82142857 0.67857143 0.75       0.67857143\n",
      " 0.67857143 0.7037037  0.88888889 0.66666667]\n",
      "0.740212 accuracy with a standard deviation of 0.070074\n",
      "--- 8.092357397079468 seconds ---\n"
     ]
    },
    {
     "data": {
      "image/png": "[encoded data removed]",
      "text/plain": [
       "<Figure size 432x288 with 2 Axes>"
      ]
     },
     "metadata": {
      "needs_background": "light"
     },
     "output_type": "display_data"
    }
   ],
   "source": [
    "def word_preprocessing(word):\n",
    "    stop_words = set(stopwords.words('english'))\n",
    "    lemmatizer = WordNetLemmatizer()\n",
    "    word = remove_special_characters(word)\n",
    "    word_tokens = word_tokenize(word)\n",
    "    filtered_sentence = [w for w in word_tokens if not w in stop_words]\n",
    "    lemmatized_sentence = [lemmatizer.lemmatize(k) for k in filtered_sentence]\n",
    "    rejoined_string = rejoin_words(lemmatized_sentence)\n",
    "    return rejoined_string\n",
    "\n",
    "execute_car_reviews()"
   ]
  },
  {
   "cell_type": "markdown",
   "metadata": {},
   "source": [
    "Complement Naive Bayes is an adaptation of the standard multinomial naive Bayer algorithm that\n",
    "is particularly suited for imbalanced data sets. Complemement Naive Bayes also does a second normalization\n",
    "which addressed the tendency for longer documents to dominate parameter estimates like in Multinomial Naive Bayes. \n",
    "https://scikit-learn.org/stable/modules/naive_bayes.html(accessed on 11 April 2021)"
   ]
  },
  {
   "cell_type": "code",
   "execution_count": 18,
   "metadata": {},
   "outputs": [
    {
     "name": "stdout",
     "output_type": "stream",
     "text": [
      "0.8122743682310469\n",
      "[0.85714286 0.78571429 0.82142857 0.67857143 0.78571429 0.85714286\n",
      " 0.75       0.62962963 0.88888889 0.7037037 ]\n",
      "0.775794 accuracy with a standard deviation of 0.080612\n",
      "--- 13.380029439926147 seconds ---\n"
     ]
    },
    {
     "data": {
      "image/png": "[encoded data removed]",
      "text/plain": [
       "<Figure size 432x288 with 2 Axes>"
      ]
     },
     "metadata": {
      "needs_background": "light"
     },
     "output_type": "display_data"
    }
   ],
   "source": [
    "from sklearn.naive_bayes import ComplementNB\n",
    "\n",
    "def model_train(train):\n",
    "    model = ComplementNB().fit(train.iloc[:, :-1], train[train.columns[-1]])\n",
    "    return model\n",
    "\n",
    "execute_car_reviews()"
   ]
  },
  {
   "cell_type": "markdown",
   "metadata": {},
   "source": [
    "### So the improved version is below:\n",
    "This one consists of:\n",
    "<ol>\n",
    "<li> Opening with a csv reader</li>\n",
    "<li> Lowering text</li>\n",
    "<li> Applying stopwords filtering</li>\n",
    "<li> Stemming</li>\n",
    "    We decided to keep stemming instead of lemmatization since we didn't see any significant advantage if not regression.\n",
    "<li> Tf-Idf Vectorizer for feature extarction </li>\n",
    "    \n",
    "<li>Using a Complement Multinomial classifier</li>\n",
    "</ol>"
   ]
  },
  {
   "cell_type": "code",
   "execution_count": 21,
   "metadata": {},
   "outputs": [
    {
     "name": "stdout",
     "output_type": "stream",
     "text": [
      "0.7942238267148014\n",
      "[0.82142857 0.75       0.75       0.85714286 0.82142857 0.71428571\n",
      " 0.78571429 0.85185185 0.66666667 0.88888889]\n",
      "0.790741 accuracy with a standard deviation of 0.066517\n",
      "--- 38.80933117866516 seconds ---\n"
     ]
    },
    {
     "data": {
      "image/png": "[encoded data removed]",
      "text/plain": [
       "<Figure size 432x288 with 2 Axes>"
      ]
     },
     "metadata": {
      "needs_background": "light"
     },
     "output_type": "display_data"
    }
   ],
   "source": [
    "from sklearn.naive_bayes import ComplementNB\n",
    "import numpy as np\n",
    "from sklearn.metrics import accuracy_score\n",
    "from sklearn.naive_bayes import MultinomialNB\n",
    "from sklearn.metrics import confusion_matrix\n",
    "from sklearn.model_selection import cross_val_score\n",
    "from sklearn.model_selection import train_test_split\n",
    "from sklearn.feature_extraction.text import CountVectorizer\n",
    "from nltk.tokenize import sent_tokenize, word_tokenize\n",
    "from sklearn.metrics import plot_confusion_matrix\n",
    "from nltk.corpus import stopwords\n",
    "from nltk.stem import PorterStemmer\n",
    "from nltk.stem import WordNetLemmatizer\n",
    "import pandas as pd\n",
    "import random\n",
    "import time\n",
    "import re\n",
    "\n",
    "def rejoin_words(row):\n",
    "    joined_words = (\" \".join(row))\n",
    "    return joined_words\n",
    "\n",
    "def remove_special_characters(text):\n",
    "    pat = r'[^a-zA-z.,!?/:;\\\"\\'\\s]' \n",
    "    return re.sub(pat, '', text)\n",
    "\n",
    "def word_preprocessing(word):\n",
    "    stop_words = set(stopwords.words('english'))\n",
    "    ps = PorterStemmer()\n",
    "    word = remove_special_characters(word)\n",
    "    word_tokens = word_tokenize(word)\n",
    "    filtered_sentence = [w for w in word_tokens if not w in stop_words]\n",
    "    stemmed_sentence = [ps.stem(w) for w in filtered_sentence]\n",
    "    rejoined_string = rejoin_words(stemmed_sentence)\n",
    "    return rejoined_string\n",
    "\n",
    "\n",
    "def preprocessing(reviews_list):\n",
    "    reviews_list['Review'] = reviews_list['Review'].str.lower()\n",
    "    for i in range(len(reviews_list)):\n",
    "        row = reviews_list.iloc[i]\n",
    "        review = row['Review']\n",
    "        reviews_list.iloc[i]['Review'] = word_preprocessing(review)\n",
    "    return reviews_list\n",
    "\n",
    "\n",
    "def feature_extraction(reviews_list):\n",
    "    tfidf = TfidfVectorizer(max_features=4000)\n",
    "    # Is used for the initial fitting of parameters on the training set x, while also returning the transformed x'\n",
    "    Count_data = tfidf.fit_transform(reviews_list['Review'])\n",
    "    cv_dataframe = pd.DataFrame(Count_data.toarray(), columns=tfidf.get_feature_names())\n",
    "    cv_dataframe['Sentiment'] = reviews_list['Sentiment']\n",
    "    train, test = train_test_split(cv_dataframe, test_size=0.2)\n",
    "    train.to_csv(path_or_buf=\"train2.csv\", index=False)\n",
    "    return train, test\n",
    "\n",
    "def predict(model, test, train):\n",
    "    Y = test[train.columns[-1]]\n",
    "    X = test.iloc[:, :-1]\n",
    "    all_predictions = model.predict(X)\n",
    "    plot_confusion_matrix(model, X, Y)\n",
    "    print(accuracy_score(Y, all_predictions))\n",
    "    scores = cross_val_score(model, X, Y, cv=10)\n",
    "    print(scores)\n",
    "    print(\"%f accuracy with a standard deviation of %f\" % (scores.mean(), scores.std()))\n",
    "\n",
    "\n",
    "def model_train(train):\n",
    "    model = ComplementNB().fit(train.iloc[:, :-1], train[train.columns[-1]])\n",
    "    return model\n",
    "\n",
    "\n",
    "def csv_reader(filename):\n",
    "    reviews_list = pd.read_csv(filename)\n",
    "    return reviews_list\n",
    "\n",
    "def execute_car_reviews():\n",
    "    start_time = time.time()\n",
    "    reviews_list = csv_reader(\"car-reviews.csv\")\n",
    "    filtered = preprocessing(reviews_list)\n",
    "    train, test = feature_extraction(reviews_list)\n",
    "    model = model_train(train)\n",
    "    predict(model, test, train)\n",
    "    print(\"--- %s seconds ---\" % (time.time() - start_time))\n",
    "\n",
    "execute_car_reviews()"
   ]
  },
  {
   "cell_type": "markdown",
   "metadata": {},
   "source": [
    "* So part 1:\n",
    "\n",
    "[0.85714286 0.67857143 0.71428571 0.82142857 0.85714286 0.60714286\n",
    " 0.64285714 0.62962963 0.66666667 0.81481481]\n",
    " \n",
    "0.728968 mean accuracy with a standard deviation of 0.093562\n",
    "\n",
    "--- 10.12574291229248 seconds ---\n",
    "\n",
    "0.728968 accuracy with a standard deviation of 0.093562\n",
    "\n",
    "[[105 32]\n",
    "[29 111]]\n",
    "\n",
    "* Part 2 second approach with tf-idf gives:\n",
    "\n",
    "[0.75       0.75       0.75       0.85714286 0.67857143 0.67857143\n",
    " 0.67857143 0.7037037  0.66666667 0.81481481]\n",
    " \n",
    "0.732804 mean accuracy with a standard deviation of 0.060924\n",
    "0.7689530685920578\n",
    "\n",
    "[[103 46]\n",
    "[29 108]]\n",
    "\n",
    "* Third approach with lemmatization seems to result in some regression:\n",
    "[0.75       0.67857143 0.64285714 0.75       0.75       0.57142857\n",
    " 0.67857143 0.81481481 0.62962963 0.77777778]\n",
    " \n",
    "0.704365 mean accuracy with a standard deviation of 0.072255\n",
    "\n",
    "0.696693 accuracy with a standard deviation of 0.072165\n",
    "\n",
    "[[92 35]\n",
    "[29 121]]\n",
    "\n",
    "* Fourth approach Tf-idf with ComplementNB and stemming instead of lemmatization:\n",
    "\n",
    "[0.82142857 0.75       0.75       0.85714286 0.82142857 0.71428571\n",
    " 0.78571429 0.85185185 0.66666667 0.88888889]\n",
    " \n",
    "0.790741 accuracy with a standard deviation of 0.066517\n",
    "\n",
    "--- 38.80933117866516 seconds ---\n",
    "\n",
    "0.8122743682310469\n",
    "\n",
    "[[98 40]\n",
    "[17 122]]\n",
    "\n"
   ]
  },
  {
   "cell_type": "markdown",
   "metadata": {},
   "source": [
    "* Does the code output a new classification matrix for the “improved” part\n",
    "two approach AND Is there markdown or comment that clearly discusses\n",
    "and compares the performance of the part one and part two classification\n",
    "approaches and explains whether or not the expected improvements were\n",
    "achieved (and why this may be the case)."
   ]
  },
  {
   "cell_type": "markdown",
   "metadata": {},
   "source": [
    "So Part1 results in a relatively good first result which could benefit some enhancements. Then tf-idf shows that there is some benefit from taking this approach. Lemmatization makes no inprovement if not making the run worse where as we would expect it to make it slightly better. Maybe some tuning with POS tagging would bring the desired results.\n",
    "Finally Complement Naive Bayes significantly improves the performace.\n",
    "\n",
    "Part1 results:\n",
    "[0.85714286 0.67857143 0.71428571 0.82142857 0.85714286 0.60714286\n",
    " 0.64285714 0.62962963 0.66666667 0.81481481]\n",
    " \n",
    "0.728968 mean accuracy with a standard deviation of 0.093562\n",
    "\n",
    "--- 10.12574291229248 seconds ---\n",
    "\n",
    "0.728968 accuracy with a standard deviation of 0.093562\n",
    "\n",
    "[[105 32]\n",
    "[29 111]]\n",
    "\n",
    "Part 2 results:\n",
    "* Fourth approach Tf-idf with ComplementNB and stemming instead of lemmatization:\n",
    "\n",
    "[0.82142857 0.75       0.75       0.85714286 0.82142857 0.71428571\n",
    " 0.78571429 0.85185185 0.66666667 0.88888889]\n",
    " \n",
    "0.790741 accuracy with a standard deviation of 0.066517\n",
    "\n",
    "--- 38.80933117866516 seconds ---\n",
    "\n",
    "0.8122743682310469\n",
    "\n",
    "[[98 40]\n",
    "[17 122]]\n",
    "\n",
    " #### As we can see the improved version is doing much better in finding the true negatives. Only 17 false negatives. Sligthly worse in finding true positives 111/32 = 3.4 compared to 122/40 = 3.05. \n",
    " \n",
    "### Standard deviation is less in the improved version which means the values don't differ as much from the mean value. \n",
    "\n",
    "### Mean value is again 0.790741 on the improved compared to 0.728968 on the reference.\n",
    "\n",
    "### Average accuracy of the improved version is 0.790741 compared to 0.728968 which is considerably worse.\n",
    "\n",
    "### A slight caveat is that timewise the improved version is taking 38.80933117866516 seconds compared to 10.12574291229248\n",
    "\n",
    "### Overall the improved version excluding lemmatization which wasn't succesfull is clearly better judging from the above evaluation metrics."
   ]
  },
  {
   "cell_type": "code",
   "execution_count": null,
   "metadata": {},
   "outputs": [],
   "source": []
  }
 ],
 "metadata": {
  "kernelspec": {
   "display_name": "Python 3",
   "language": "python",
   "name": "python3"
  },
  "language_info": {
   "codemirror_mode": {
    "name": "ipython",
    "version": 3
   },
   "file_extension": ".py",
   "mimetype": "text/x-python",
   "name": "python",
   "nbconvert_exporter": "python",
   "pygments_lexer": "ipython3",
   "version": "3.8.3"
  }
 },
 "nbformat": 4,
 "nbformat_minor": 4
}
